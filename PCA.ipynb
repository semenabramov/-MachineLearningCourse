{
  "nbformat": 4,
  "nbformat_minor": 0,
  "metadata": {
    "colab": {
      "provenance": []
    },
    "kernelspec": {
      "name": "python3",
      "display_name": "Python 3"
    },
    "language_info": {
      "name": "python"
    }
  },
  "cells": [
    {
      "cell_type": "markdown",
      "source": [
        "##Используем PCA для нашего датасета."
      ],
      "metadata": {
        "id": "dyKMxdu4igCT"
      }
    },
    {
      "cell_type": "code",
      "execution_count": 460,
      "metadata": {
        "id": "AiNlhcrfIHW5"
      },
      "outputs": [],
      "source": [
        "from sklearn.datasets import fetch_openml\n",
        "import matplotlib.pyplot as plt\n",
        "import numpy as np\n",
        "\n",
        "from sklearn import datasets \n",
        "import pandas as pd\n",
        "from sklearn.preprocessing import StandardScaler \n",
        "from sklearn.decomposition import PCA \n",
        "import seaborn as sns  \n",
        "from sklearn.model_selection import train_test_split\n"
      ]
    },
    {
      "cell_type": "code",
      "source": [
        "data = pd.read_csv('insurance.csv')\n",
        "data['sex'] = pd.factorize(data['sex'])[0]\n",
        "data['smoker'] = pd.factorize(data['smoker'])[0]\n",
        "Region_dummies = pd.get_dummies(data['region'])\n",
        "data = pd.concat((data, Region_dummies), axis=1)\n",
        "data = data.drop(['region'], axis=1)"
      ],
      "metadata": {
        "id": "Imo4FtnMMVAA"
      },
      "execution_count": 461,
      "outputs": []
    },
    {
      "cell_type": "code",
      "source": [
        "data_stand = (data - data.mean(axis = 0))/data.std(axis = 0)\n",
        "data_stand.head()"
      ],
      "metadata": {
        "colab": {
          "base_uri": "https://localhost:8080/",
          "height": 206
        },
        "id": "5APX2jnoNGRV",
        "outputId": "0e684a2b-d523-4f98-f226-b42306d6fd56"
      },
      "execution_count": 462,
      "outputs": [
        {
          "output_type": "execute_result",
          "data": {
            "text/plain": [
              "        age       sex       bmi  children    smoker   charges  northeast  \\\n",
              "0 -1.438227 -1.010141 -0.453151 -0.908274 -1.969850  0.298472  -0.565056   \n",
              "1 -1.509401  0.989221  0.509431 -0.078738  0.507273 -0.953333  -0.565056   \n",
              "2 -0.797655  0.989221  0.383164  1.580335  0.507273 -0.728402  -0.565056   \n",
              "3 -0.441782  0.989221 -1.305043 -0.908274  0.507273  0.719574  -0.565056   \n",
              "4 -0.512957  0.989221 -0.292447 -0.908274  0.507273 -0.776512  -0.565056   \n",
              "\n",
              "   northwest  southeast  southwest  \n",
              "0  -0.566206  -0.611095   1.764821  \n",
              "1  -0.566206   1.635183  -0.566206  \n",
              "2  -0.566206   1.635183  -0.566206  \n",
              "3   1.764821  -0.611095  -0.566206  \n",
              "4   1.764821  -0.611095  -0.566206  "
            ],
            "text/html": [
              "\n",
              "  <div id=\"df-ea993f8e-0f66-4b26-95f2-3864474dfee3\">\n",
              "    <div class=\"colab-df-container\">\n",
              "      <div>\n",
              "<style scoped>\n",
              "    .dataframe tbody tr th:only-of-type {\n",
              "        vertical-align: middle;\n",
              "    }\n",
              "\n",
              "    .dataframe tbody tr th {\n",
              "        vertical-align: top;\n",
              "    }\n",
              "\n",
              "    .dataframe thead th {\n",
              "        text-align: right;\n",
              "    }\n",
              "</style>\n",
              "<table border=\"1\" class=\"dataframe\">\n",
              "  <thead>\n",
              "    <tr style=\"text-align: right;\">\n",
              "      <th></th>\n",
              "      <th>age</th>\n",
              "      <th>sex</th>\n",
              "      <th>bmi</th>\n",
              "      <th>children</th>\n",
              "      <th>smoker</th>\n",
              "      <th>charges</th>\n",
              "      <th>northeast</th>\n",
              "      <th>northwest</th>\n",
              "      <th>southeast</th>\n",
              "      <th>southwest</th>\n",
              "    </tr>\n",
              "  </thead>\n",
              "  <tbody>\n",
              "    <tr>\n",
              "      <th>0</th>\n",
              "      <td>-1.438227</td>\n",
              "      <td>-1.010141</td>\n",
              "      <td>-0.453151</td>\n",
              "      <td>-0.908274</td>\n",
              "      <td>-1.969850</td>\n",
              "      <td>0.298472</td>\n",
              "      <td>-0.565056</td>\n",
              "      <td>-0.566206</td>\n",
              "      <td>-0.611095</td>\n",
              "      <td>1.764821</td>\n",
              "    </tr>\n",
              "    <tr>\n",
              "      <th>1</th>\n",
              "      <td>-1.509401</td>\n",
              "      <td>0.989221</td>\n",
              "      <td>0.509431</td>\n",
              "      <td>-0.078738</td>\n",
              "      <td>0.507273</td>\n",
              "      <td>-0.953333</td>\n",
              "      <td>-0.565056</td>\n",
              "      <td>-0.566206</td>\n",
              "      <td>1.635183</td>\n",
              "      <td>-0.566206</td>\n",
              "    </tr>\n",
              "    <tr>\n",
              "      <th>2</th>\n",
              "      <td>-0.797655</td>\n",
              "      <td>0.989221</td>\n",
              "      <td>0.383164</td>\n",
              "      <td>1.580335</td>\n",
              "      <td>0.507273</td>\n",
              "      <td>-0.728402</td>\n",
              "      <td>-0.565056</td>\n",
              "      <td>-0.566206</td>\n",
              "      <td>1.635183</td>\n",
              "      <td>-0.566206</td>\n",
              "    </tr>\n",
              "    <tr>\n",
              "      <th>3</th>\n",
              "      <td>-0.441782</td>\n",
              "      <td>0.989221</td>\n",
              "      <td>-1.305043</td>\n",
              "      <td>-0.908274</td>\n",
              "      <td>0.507273</td>\n",
              "      <td>0.719574</td>\n",
              "      <td>-0.565056</td>\n",
              "      <td>1.764821</td>\n",
              "      <td>-0.611095</td>\n",
              "      <td>-0.566206</td>\n",
              "    </tr>\n",
              "    <tr>\n",
              "      <th>4</th>\n",
              "      <td>-0.512957</td>\n",
              "      <td>0.989221</td>\n",
              "      <td>-0.292447</td>\n",
              "      <td>-0.908274</td>\n",
              "      <td>0.507273</td>\n",
              "      <td>-0.776512</td>\n",
              "      <td>-0.565056</td>\n",
              "      <td>1.764821</td>\n",
              "      <td>-0.611095</td>\n",
              "      <td>-0.566206</td>\n",
              "    </tr>\n",
              "  </tbody>\n",
              "</table>\n",
              "</div>\n",
              "      <button class=\"colab-df-convert\" onclick=\"convertToInteractive('df-ea993f8e-0f66-4b26-95f2-3864474dfee3')\"\n",
              "              title=\"Convert this dataframe to an interactive table.\"\n",
              "              style=\"display:none;\">\n",
              "        \n",
              "  <svg xmlns=\"http://www.w3.org/2000/svg\" height=\"24px\"viewBox=\"0 0 24 24\"\n",
              "       width=\"24px\">\n",
              "    <path d=\"M0 0h24v24H0V0z\" fill=\"none\"/>\n",
              "    <path d=\"M18.56 5.44l.94 2.06.94-2.06 2.06-.94-2.06-.94-.94-2.06-.94 2.06-2.06.94zm-11 1L8.5 8.5l.94-2.06 2.06-.94-2.06-.94L8.5 2.5l-.94 2.06-2.06.94zm10 10l.94 2.06.94-2.06 2.06-.94-2.06-.94-.94-2.06-.94 2.06-2.06.94z\"/><path d=\"M17.41 7.96l-1.37-1.37c-.4-.4-.92-.59-1.43-.59-.52 0-1.04.2-1.43.59L10.3 9.45l-7.72 7.72c-.78.78-.78 2.05 0 2.83L4 21.41c.39.39.9.59 1.41.59.51 0 1.02-.2 1.41-.59l7.78-7.78 2.81-2.81c.8-.78.8-2.07 0-2.86zM5.41 20L4 18.59l7.72-7.72 1.47 1.35L5.41 20z\"/>\n",
              "  </svg>\n",
              "      </button>\n",
              "      \n",
              "  <style>\n",
              "    .colab-df-container {\n",
              "      display:flex;\n",
              "      flex-wrap:wrap;\n",
              "      gap: 12px;\n",
              "    }\n",
              "\n",
              "    .colab-df-convert {\n",
              "      background-color: #E8F0FE;\n",
              "      border: none;\n",
              "      border-radius: 50%;\n",
              "      cursor: pointer;\n",
              "      display: none;\n",
              "      fill: #1967D2;\n",
              "      height: 32px;\n",
              "      padding: 0 0 0 0;\n",
              "      width: 32px;\n",
              "    }\n",
              "\n",
              "    .colab-df-convert:hover {\n",
              "      background-color: #E2EBFA;\n",
              "      box-shadow: 0px 1px 2px rgba(60, 64, 67, 0.3), 0px 1px 3px 1px rgba(60, 64, 67, 0.15);\n",
              "      fill: #174EA6;\n",
              "    }\n",
              "\n",
              "    [theme=dark] .colab-df-convert {\n",
              "      background-color: #3B4455;\n",
              "      fill: #D2E3FC;\n",
              "    }\n",
              "\n",
              "    [theme=dark] .colab-df-convert:hover {\n",
              "      background-color: #434B5C;\n",
              "      box-shadow: 0px 1px 3px 1px rgba(0, 0, 0, 0.15);\n",
              "      filter: drop-shadow(0px 1px 2px rgba(0, 0, 0, 0.3));\n",
              "      fill: #FFFFFF;\n",
              "    }\n",
              "  </style>\n",
              "\n",
              "      <script>\n",
              "        const buttonEl =\n",
              "          document.querySelector('#df-ea993f8e-0f66-4b26-95f2-3864474dfee3 button.colab-df-convert');\n",
              "        buttonEl.style.display =\n",
              "          google.colab.kernel.accessAllowed ? 'block' : 'none';\n",
              "\n",
              "        async function convertToInteractive(key) {\n",
              "          const element = document.querySelector('#df-ea993f8e-0f66-4b26-95f2-3864474dfee3');\n",
              "          const dataTable =\n",
              "            await google.colab.kernel.invokeFunction('convertToInteractive',\n",
              "                                                     [key], {});\n",
              "          if (!dataTable) return;\n",
              "\n",
              "          const docLinkHtml = 'Like what you see? Visit the ' +\n",
              "            '<a target=\"_blank\" href=https://colab.research.google.com/notebooks/data_table.ipynb>data table notebook</a>'\n",
              "            + ' to learn more about interactive tables.';\n",
              "          element.innerHTML = '';\n",
              "          dataTable['output_type'] = 'display_data';\n",
              "          await google.colab.output.renderOutput(dataTable, element);\n",
              "          const docLink = document.createElement('div');\n",
              "          docLink.innerHTML = docLinkHtml;\n",
              "          element.appendChild(docLink);\n",
              "        }\n",
              "      </script>\n",
              "    </div>\n",
              "  </div>\n",
              "  "
            ]
          },
          "metadata": {},
          "execution_count": 462
        }
      ]
    },
    {
      "cell_type": "markdown",
      "source": [
        "Плсмотрим сколько главных компонент оставить."
      ],
      "metadata": {
        "id": "5lvhQf-NipWi"
      }
    },
    {
      "cell_type": "code",
      "source": [
        "cov_mat = data_stand.cov()\n",
        "eigen_vals, eigen_vecs = np.linalg.eig(cov_mat)\n",
        "\n",
        "tot = sum(eigen_vals)\n",
        "var_exp = [(i / tot) for i in sorted(eigen_vals, reverse=True)]\n",
        "plt.bar(range(0,len(eigen_vals)), var_exp, alpha=0.5,\n",
        "        align='center')\n",
        "plt.legend(loc='best')\n",
        "plt.show()"
      ],
      "metadata": {
        "colab": {
          "base_uri": "https://localhost:8080/",
          "height": 282
        },
        "id": "-jlBp82HMqb6",
        "outputId": "4d925e73-0961-45ce-c970-41397c131b5f"
      },
      "execution_count": 463,
      "outputs": [
        {
          "output_type": "stream",
          "name": "stderr",
          "text": [
            "WARNING:matplotlib.legend:No handles with labels found to put in legend.\n"
          ]
        },
        {
          "output_type": "display_data",
          "data": {
            "text/plain": [
              "<Figure size 432x288 with 1 Axes>"
            ],
            "image/png": "[encoded data removed]"
          },
          "metadata": {
            "needs_background": "light"
          }
        }
      ]
    },
    {
      "cell_type": "markdown",
      "source": [
        "Так как у нас изначально нет определённых классов, чтобы потом оценить PCA, проведём кластеризацию смоделировав, что разбиение в данном датасете было."
      ],
      "metadata": {
        "id": "b01uQXwfafXN"
      }
    },
    {
      "cell_type": "code",
      "source": [
        "from sklearn.cluster import Birch\n",
        "model = Birch(threshold=0.3)\n",
        "model.fit(data)\n"
      ],
      "metadata": {
        "colab": {
          "base_uri": "https://localhost:8080/"
        },
        "id": "MNvh8o2OaZGs",
        "outputId": "fa224c82-a820-4fb4-b48d-45e9402705af"
      },
      "execution_count": 464,
      "outputs": [
        {
          "output_type": "execute_result",
          "data": {
            "text/plain": [
              "Birch(threshold=0.3)"
            ]
          },
          "metadata": {},
          "execution_count": 464
        }
      ]
    },
    {
      "cell_type": "code",
      "source": [
        "labels = pd.DataFrame({'labels':model.labels_})\n",
        "data_new = data_stand\n",
        "data_new = pd.concat((data_new, labels), axis=1)\n",
        "data_new.head()"
      ],
      "metadata": {
        "colab": {
          "base_uri": "https://localhost:8080/",
          "height": 206
        },
        "id": "HeER4pwdaenl",
        "outputId": "d3572012-3bab-48dc-8000-85d701d14f68"
      },
      "execution_count": 465,
      "outputs": [
        {
          "output_type": "execute_result",
          "data": {
            "text/plain": [
              "        age       sex       bmi  children    smoker   charges  northeast  \\\n",
              "0 -1.438227 -1.010141 -0.453151 -0.908274 -1.969850  0.298472  -0.565056   \n",
              "1 -1.509401  0.989221  0.509431 -0.078738  0.507273 -0.953333  -0.565056   \n",
              "2 -0.797655  0.989221  0.383164  1.580335  0.507273 -0.728402  -0.565056   \n",
              "3 -0.441782  0.989221 -1.305043 -0.908274  0.507273  0.719574  -0.565056   \n",
              "4 -0.512957  0.989221 -0.292447 -0.908274  0.507273 -0.776512  -0.565056   \n",
              "\n",
              "   northwest  southeast  southwest  labels  \n",
              "0  -0.566206  -0.611095   1.764821       2  \n",
              "1  -0.566206   1.635183  -0.566206       0  \n",
              "2  -0.566206   1.635183  -0.566206       0  \n",
              "3   1.764821  -0.611095  -0.566206       2  \n",
              "4   1.764821  -0.611095  -0.566206       0  "
            ],
            "text/html": [
              "\n",
              "  <div id=\"df-31b02920-75b5-44f5-af7e-0c6f04e45396\">\n",
              "    <div class=\"colab-df-container\">\n",
              "      <div>\n",
              "<style scoped>\n",
              "    .dataframe tbody tr th:only-of-type {\n",
              "        vertical-align: middle;\n",
              "    }\n",
              "\n",
              "    .dataframe tbody tr th {\n",
              "        vertical-align: top;\n",
              "    }\n",
              "\n",
              "    .dataframe thead th {\n",
              "        text-align: right;\n",
              "    }\n",
              "</style>\n",
              "<table border=\"1\" class=\"dataframe\">\n",
              "  <thead>\n",
              "    <tr style=\"text-align: right;\">\n",
              "      <th></th>\n",
              "      <th>age</th>\n",
              "      <th>sex</th>\n",
              "      <th>bmi</th>\n",
              "      <th>children</th>\n",
              "      <th>smoker</th>\n",
              "      <th>charges</th>\n",
              "      <th>northeast</th>\n",
              "      <th>northwest</th>\n",
              "      <th>southeast</th>\n",
              "      <th>southwest</th>\n",
              "      <th>labels</th>\n",
              "    </tr>\n",
              "  </thead>\n",
              "  <tbody>\n",
              "    <tr>\n",
              "      <th>0</th>\n",
              "      <td>-1.438227</td>\n",
              "      <td>-1.010141</td>\n",
              "      <td>-0.453151</td>\n",
              "      <td>-0.908274</td>\n",
              "      <td>-1.969850</td>\n",
              "      <td>0.298472</td>\n",
              "      <td>-0.565056</td>\n",
              "      <td>-0.566206</td>\n",
              "      <td>-0.611095</td>\n",
              "      <td>1.764821</td>\n",
              "      <td>2</td>\n",
              "    </tr>\n",
              "    <tr>\n",
              "      <th>1</th>\n",
              "      <td>-1.509401</td>\n",
              "      <td>0.989221</td>\n",
              "      <td>0.509431</td>\n",
              "      <td>-0.078738</td>\n",
              "      <td>0.507273</td>\n",
              "      <td>-0.953333</td>\n",
              "      <td>-0.565056</td>\n",
              "      <td>-0.566206</td>\n",
              "      <td>1.635183</td>\n",
              "      <td>-0.566206</td>\n",
              "      <td>0</td>\n",
              "    </tr>\n",
              "    <tr>\n",
              "      <th>2</th>\n",
              "      <td>-0.797655</td>\n",
              "      <td>0.989221</td>\n",
              "      <td>0.383164</td>\n",
              "      <td>1.580335</td>\n",
              "      <td>0.507273</td>\n",
              "      <td>-0.728402</td>\n",
              "      <td>-0.565056</td>\n",
              "      <td>-0.566206</td>\n",
              "      <td>1.635183</td>\n",
              "      <td>-0.566206</td>\n",
              "      <td>0</td>\n",
              "    </tr>\n",
              "    <tr>\n",
              "      <th>3</th>\n",
              "      <td>-0.441782</td>\n",
              "      <td>0.989221</td>\n",
              "      <td>-1.305043</td>\n",
              "      <td>-0.908274</td>\n",
              "      <td>0.507273</td>\n",
              "      <td>0.719574</td>\n",
              "      <td>-0.565056</td>\n",
              "      <td>1.764821</td>\n",
              "      <td>-0.611095</td>\n",
              "      <td>-0.566206</td>\n",
              "      <td>2</td>\n",
              "    </tr>\n",
              "    <tr>\n",
              "      <th>4</th>\n",
              "      <td>-0.512957</td>\n",
              "      <td>0.989221</td>\n",
              "      <td>-0.292447</td>\n",
              "      <td>-0.908274</td>\n",
              "      <td>0.507273</td>\n",
              "      <td>-0.776512</td>\n",
              "      <td>-0.565056</td>\n",
              "      <td>1.764821</td>\n",
              "      <td>-0.611095</td>\n",
              "      <td>-0.566206</td>\n",
              "      <td>0</td>\n",
              "    </tr>\n",
              "  </tbody>\n",
              "</table>\n",
              "</div>\n",
              "      <button class=\"colab-df-convert\" onclick=\"convertToInteractive('df-31b02920-75b5-44f5-af7e-0c6f04e45396')\"\n",
              "              title=\"Convert this dataframe to an interactive table.\"\n",
              "              style=\"display:none;\">\n",
              "        \n",
              "  <svg xmlns=\"http://www.w3.org/2000/svg\" height=\"24px\"viewBox=\"0 0 24 24\"\n",
              "       width=\"24px\">\n",
              "    <path d=\"M0 0h24v24H0V0z\" fill=\"none\"/>\n",
              "    <path d=\"M18.56 5.44l.94 2.06.94-2.06 2.06-.94-2.06-.94-.94-2.06-.94 2.06-2.06.94zm-11 1L8.5 8.5l.94-2.06 2.06-.94-2.06-.94L8.5 2.5l-.94 2.06-2.06.94zm10 10l.94 2.06.94-2.06 2.06-.94-2.06-.94-.94-2.06-.94 2.06-2.06.94z\"/><path d=\"M17.41 7.96l-1.37-1.37c-.4-.4-.92-.59-1.43-.59-.52 0-1.04.2-1.43.59L10.3 9.45l-7.72 7.72c-.78.78-.78 2.05 0 2.83L4 21.41c.39.39.9.59 1.41.59.51 0 1.02-.2 1.41-.59l7.78-7.78 2.81-2.81c.8-.78.8-2.07 0-2.86zM5.41 20L4 18.59l7.72-7.72 1.47 1.35L5.41 20z\"/>\n",
              "  </svg>\n",
              "      </button>\n",
              "      \n",
              "  <style>\n",
              "    .colab-df-container {\n",
              "      display:flex;\n",
              "      flex-wrap:wrap;\n",
              "      gap: 12px;\n",
              "    }\n",
              "\n",
              "    .colab-df-convert {\n",
              "      background-color: #E8F0FE;\n",
              "      border: none;\n",
              "      border-radius: 50%;\n",
              "      cursor: pointer;\n",
              "      display: none;\n",
              "      fill: #1967D2;\n",
              "      height: 32px;\n",
              "      padding: 0 0 0 0;\n",
              "      width: 32px;\n",
              "    }\n",
              "\n",
              "    .colab-df-convert:hover {\n",
              "      background-color: #E2EBFA;\n",
              "      box-shadow: 0px 1px 2px rgba(60, 64, 67, 0.3), 0px 1px 3px 1px rgba(60, 64, 67, 0.15);\n",
              "      fill: #174EA6;\n",
              "    }\n",
              "\n",
              "    [theme=dark] .colab-df-convert {\n",
              "      background-color: #3B4455;\n",
              "      fill: #D2E3FC;\n",
              "    }\n",
              "\n",
              "    [theme=dark] .colab-df-convert:hover {\n",
              "      background-color: #434B5C;\n",
              "      box-shadow: 0px 1px 3px 1px rgba(0, 0, 0, 0.15);\n",
              "      filter: drop-shadow(0px 1px 2px rgba(0, 0, 0, 0.3));\n",
              "      fill: #FFFFFF;\n",
              "    }\n",
              "  </style>\n",
              "\n",
              "      <script>\n",
              "        const buttonEl =\n",
              "          document.querySelector('#df-31b02920-75b5-44f5-af7e-0c6f04e45396 button.colab-df-convert');\n",
              "        buttonEl.style.display =\n",
              "          google.colab.kernel.accessAllowed ? 'block' : 'none';\n",
              "\n",
              "        async function convertToInteractive(key) {\n",
              "          const element = document.querySelector('#df-31b02920-75b5-44f5-af7e-0c6f04e45396');\n",
              "          const dataTable =\n",
              "            await google.colab.kernel.invokeFunction('convertToInteractive',\n",
              "                                                     [key], {});\n",
              "          if (!dataTable) return;\n",
              "\n",
              "          const docLinkHtml = 'Like what you see? Visit the ' +\n",
              "            '<a target=\"_blank\" href=https://colab.research.google.com/notebooks/data_table.ipynb>data table notebook</a>'\n",
              "            + ' to learn more about interactive tables.';\n",
              "          element.innerHTML = '';\n",
              "          dataTable['output_type'] = 'display_data';\n",
              "          await google.colab.output.renderOutput(dataTable, element);\n",
              "          const docLink = document.createElement('div');\n",
              "          docLink.innerHTML = docLinkHtml;\n",
              "          element.appendChild(docLink);\n",
              "        }\n",
              "      </script>\n",
              "    </div>\n",
              "  </div>\n",
              "  "
            ]
          },
          "metadata": {},
          "execution_count": 465
        }
      ]
    },
    {
      "cell_type": "code",
      "source": [
        "Y = data_new['labels']\n",
        "X = data_new.drop(['labels'], axis=1)"
      ],
      "metadata": {
        "id": "8noggA8HaxqT"
      },
      "execution_count": 466,
      "outputs": []
    },
    {
      "cell_type": "markdown",
      "source": [
        "Проведём классификацию методом К-ближайших на исходных данных оценим ошибку."
      ],
      "metadata": {
        "id": "HjyNHbwtljDG"
      }
    },
    {
      "cell_type": "code",
      "source": [
        "from sklearn.model_selection import train_test_split\n",
        "N_train = int(len(data_stand) * 0.8)\n",
        "N_test = len(data_stand) - N_train\n",
        "X_train, X_test, Y_train, Y_test = train_test_split(data_stand, Y, \n",
        "                                                    train_size = N_train, test_size = N_test, \n",
        "                                                    stratify = Y, random_state = 15)"
      ],
      "metadata": {
        "id": "O_2W2wjjk_Ro"
      },
      "execution_count": 467,
      "outputs": []
    },
    {
      "cell_type": "code",
      "source": [
        "from sklearn.neighbors import KNeighborsClassifier\n",
        "\n",
        "knn = KNeighborsClassifier(n_neighbors = 5)\n",
        "knn.fit(X_train, Y_train)"
      ],
      "metadata": {
        "colab": {
          "base_uri": "https://localhost:8080/"
        },
        "id": "nFCau1h9lQx2",
        "outputId": "bd53f84d-1329-493c-ba9e-993397562a97"
      },
      "execution_count": 468,
      "outputs": [
        {
          "output_type": "execute_result",
          "data": {
            "text/plain": [
              "KNeighborsClassifier()"
            ]
          },
          "metadata": {},
          "execution_count": 468
        }
      ]
    },
    {
      "cell_type": "code",
      "source": [
        "y_test_predict = knn.predict(X_test)\n",
        "labels = pd.DataFrame({'labels':y_test_predict})\n",
        "# for i in range(len(Y_test)):\n",
        "#   if(list(Y_test)[i] != y_test_predict [i]):\n",
        "#     print('*')\n",
        "\n",
        "err_train = 1 - knn.score(X_train, Y_train)\n",
        "err_test = 1 - knn.score(X_test, Y_test)\n",
        "print('Ошибка на обучении: ' + str(err_train * 100) + '%')\n",
        "print('Ошибка на тесте: ' + str(err_test * 100) + '%')"
      ],
      "metadata": {
        "colab": {
          "base_uri": "https://localhost:8080/"
        },
        "id": "bpoZFc0zk_xp",
        "outputId": "e4aba086-d755-405d-d248-837e597bf277"
      },
      "execution_count": 469,
      "outputs": [
        {
          "output_type": "stream",
          "name": "stdout",
          "text": [
            "Ошибка на обучении: 4.953271028037387%\n",
            "Ошибка на тесте: 7.0895522388059735%\n"
          ]
        }
      ]
    },
    {
      "cell_type": "markdown",
      "source": [
        "Оставим 4 главных компоненты\n"
      ],
      "metadata": {
        "id": "8rG0I6T2TKxh"
      }
    },
    {
      "cell_type": "code",
      "source": [
        "pca_train = PCA(n_components = 4)\n",
        "pca_train.fit(data_stand)\n",
        "data_pca = pca_train.transform(data_stand)\n",
        "data_pca = pd.DataFrame(data_pca)\n",
        "data_pca.head()"
      ],
      "metadata": {
        "colab": {
          "base_uri": "https://localhost:8080/",
          "height": 206
        },
        "id": "X0TCCb5FWWqT",
        "outputId": "3bb522b7-26ab-4d0e-8687-061374a6af62"
      },
      "execution_count": 470,
      "outputs": [
        {
          "output_type": "execute_result",
          "data": {
            "text/plain": [
              "          0         1         2         3\n",
              "0  0.530430 -0.599232  1.777552 -0.201358\n",
              "1 -0.390244  2.102187 -0.977230 -0.252131\n",
              "2 -0.030278  1.851302 -0.685899  0.003456\n",
              "3 -0.572928 -1.197947 -0.719708  1.608451\n",
              "4 -1.278409 -0.383197 -0.809110  1.520054"
            ],
            "text/html": [
              "\n",
              "  <div id=\"df-9dfbec60-0bd6-4de7-be0b-941a05c72e70\">\n",
              "    <div class=\"colab-df-container\">\n",
              "      <div>\n",
              "<style scoped>\n",
              "    .dataframe tbody tr th:only-of-type {\n",
              "        vertical-align: middle;\n",
              "    }\n",
              "\n",
              "    .dataframe tbody tr th {\n",
              "        vertical-align: top;\n",
              "    }\n",
              "\n",
              "    .dataframe thead th {\n",
              "        text-align: right;\n",
              "    }\n",
              "</style>\n",
              "<table border=\"1\" class=\"dataframe\">\n",
              "  <thead>\n",
              "    <tr style=\"text-align: right;\">\n",
              "      <th></th>\n",
              "      <th>0</th>\n",
              "      <th>1</th>\n",
              "      <th>2</th>\n",
              "      <th>3</th>\n",
              "    </tr>\n",
              "  </thead>\n",
              "  <tbody>\n",
              "    <tr>\n",
              "      <th>0</th>\n",
              "      <td>0.530430</td>\n",
              "      <td>-0.599232</td>\n",
              "      <td>1.777552</td>\n",
              "      <td>-0.201358</td>\n",
              "    </tr>\n",
              "    <tr>\n",
              "      <th>1</th>\n",
              "      <td>-0.390244</td>\n",
              "      <td>2.102187</td>\n",
              "      <td>-0.977230</td>\n",
              "      <td>-0.252131</td>\n",
              "    </tr>\n",
              "    <tr>\n",
              "      <th>2</th>\n",
              "      <td>-0.030278</td>\n",
              "      <td>1.851302</td>\n",
              "      <td>-0.685899</td>\n",
              "      <td>0.003456</td>\n",
              "    </tr>\n",
              "    <tr>\n",
              "      <th>3</th>\n",
              "      <td>-0.572928</td>\n",
              "      <td>-1.197947</td>\n",
              "      <td>-0.719708</td>\n",
              "      <td>1.608451</td>\n",
              "    </tr>\n",
              "    <tr>\n",
              "      <th>4</th>\n",
              "      <td>-1.278409</td>\n",
              "      <td>-0.383197</td>\n",
              "      <td>-0.809110</td>\n",
              "      <td>1.520054</td>\n",
              "    </tr>\n",
              "  </tbody>\n",
              "</table>\n",
              "</div>\n",
              "      <button class=\"colab-df-convert\" onclick=\"convertToInteractive('df-9dfbec60-0bd6-4de7-be0b-941a05c72e70')\"\n",
              "              title=\"Convert this dataframe to an interactive table.\"\n",
              "              style=\"display:none;\">\n",
              "        \n",
              "  <svg xmlns=\"http://www.w3.org/2000/svg\" height=\"24px\"viewBox=\"0 0 24 24\"\n",
              "       width=\"24px\">\n",
              "    <path d=\"M0 0h24v24H0V0z\" fill=\"none\"/>\n",
              "    <path d=\"M18.56 5.44l.94 2.06.94-2.06 2.06-.94-2.06-.94-.94-2.06-.94 2.06-2.06.94zm-11 1L8.5 8.5l.94-2.06 2.06-.94-2.06-.94L8.5 2.5l-.94 2.06-2.06.94zm10 10l.94 2.06.94-2.06 2.06-.94-2.06-.94-.94-2.06-.94 2.06-2.06.94z\"/><path d=\"M17.41 7.96l-1.37-1.37c-.4-.4-.92-.59-1.43-.59-.52 0-1.04.2-1.43.59L10.3 9.45l-7.72 7.72c-.78.78-.78 2.05 0 2.83L4 21.41c.39.39.9.59 1.41.59.51 0 1.02-.2 1.41-.59l7.78-7.78 2.81-2.81c.8-.78.8-2.07 0-2.86zM5.41 20L4 18.59l7.72-7.72 1.47 1.35L5.41 20z\"/>\n",
              "  </svg>\n",
              "      </button>\n",
              "      \n",
              "  <style>\n",
              "    .colab-df-container {\n",
              "      display:flex;\n",
              "      flex-wrap:wrap;\n",
              "      gap: 12px;\n",
              "    }\n",
              "\n",
              "    .colab-df-convert {\n",
              "      background-color: #E8F0FE;\n",
              "      border: none;\n",
              "      border-radius: 50%;\n",
              "      cursor: pointer;\n",
              "      display: none;\n",
              "      fill: #1967D2;\n",
              "      height: 32px;\n",
              "      padding: 0 0 0 0;\n",
              "      width: 32px;\n",
              "    }\n",
              "\n",
              "    .colab-df-convert:hover {\n",
              "      background-color: #E2EBFA;\n",
              "      box-shadow: 0px 1px 2px rgba(60, 64, 67, 0.3), 0px 1px 3px 1px rgba(60, 64, 67, 0.15);\n",
              "      fill: #174EA6;\n",
              "    }\n",
              "\n",
              "    [theme=dark] .colab-df-convert {\n",
              "      background-color: #3B4455;\n",
              "      fill: #D2E3FC;\n",
              "    }\n",
              "\n",
              "    [theme=dark] .colab-df-convert:hover {\n",
              "      background-color: #434B5C;\n",
              "      box-shadow: 0px 1px 3px 1px rgba(0, 0, 0, 0.15);\n",
              "      filter: drop-shadow(0px 1px 2px rgba(0, 0, 0, 0.3));\n",
              "      fill: #FFFFFF;\n",
              "    }\n",
              "  </style>\n",
              "\n",
              "      <script>\n",
              "        const buttonEl =\n",
              "          document.querySelector('#df-9dfbec60-0bd6-4de7-be0b-941a05c72e70 button.colab-df-convert');\n",
              "        buttonEl.style.display =\n",
              "          google.colab.kernel.accessAllowed ? 'block' : 'none';\n",
              "\n",
              "        async function convertToInteractive(key) {\n",
              "          const element = document.querySelector('#df-9dfbec60-0bd6-4de7-be0b-941a05c72e70');\n",
              "          const dataTable =\n",
              "            await google.colab.kernel.invokeFunction('convertToInteractive',\n",
              "                                                     [key], {});\n",
              "          if (!dataTable) return;\n",
              "\n",
              "          const docLinkHtml = 'Like what you see? Visit the ' +\n",
              "            '<a target=\"_blank\" href=https://colab.research.google.com/notebooks/data_table.ipynb>data table notebook</a>'\n",
              "            + ' to learn more about interactive tables.';\n",
              "          element.innerHTML = '';\n",
              "          dataTable['output_type'] = 'display_data';\n",
              "          await google.colab.output.renderOutput(dataTable, element);\n",
              "          const docLink = document.createElement('div');\n",
              "          docLink.innerHTML = docLinkHtml;\n",
              "          element.appendChild(docLink);\n",
              "        }\n",
              "      </script>\n",
              "    </div>\n",
              "  </div>\n",
              "  "
            ]
          },
          "metadata": {},
          "execution_count": 470
        }
      ]
    },
    {
      "cell_type": "code",
      "source": [
        "sns.heatmap(data_pca.corr())"
      ],
      "metadata": {
        "colab": {
          "base_uri": "https://localhost:8080/",
          "height": 286
        },
        "id": "Vzd8EKjuWsC4",
        "outputId": "8144d18c-8a87-474b-e76b-2b8d923edc89"
      },
      "execution_count": 471,
      "outputs": [
        {
          "output_type": "execute_result",
          "data": {
            "text/plain": [
              "<matplotlib.axes._subplots.AxesSubplot at 0x7fd072246100>"
            ]
          },
          "metadata": {},
          "execution_count": 471
        },
        {
          "output_type": "display_data",
          "data": {
            "text/plain": [
              "<Figure size 432x288 with 2 Axes>"
            ],
            "image/png": "[encoded data removed]"
          },
          "metadata": {
            "needs_background": "light"
          }
        }
      ]
    },
    {
      "cell_type": "markdown",
      "source": [
        "Проведём классификацию методом К-ближайших на данных с пониженной размерностью и оценим ошибку."
      ],
      "metadata": {
        "id": "Gz3taQa1h_tj"
      }
    },
    {
      "cell_type": "code",
      "source": [
        "from sklearn.model_selection import train_test_split\n",
        "N_train = int(len(data_pca) * 0.8)\n",
        "N_test = len(data_pca) - N_train\n",
        "X_train, X_test, Y_train, Y_test = train_test_split(data_pca, Y, \n",
        "                                                    train_size = N_train, test_size = N_test, \n",
        "                                                    stratify = Y, random_state = 15)"
      ],
      "metadata": {
        "id": "GQkFO1l5awRz"
      },
      "execution_count": 472,
      "outputs": []
    },
    {
      "cell_type": "code",
      "source": [
        "from sklearn.neighbors import KNeighborsClassifier\n",
        "\n",
        "knn = KNeighborsClassifier(n_neighbors = 5)\n",
        "knn.fit(X_train, Y_train)"
      ],
      "metadata": {
        "colab": {
          "base_uri": "https://localhost:8080/"
        },
        "id": "yP8F0erhbxvp",
        "outputId": "bd9cbc96-93b8-46b8-9768-c28cb130a51e"
      },
      "execution_count": 473,
      "outputs": [
        {
          "output_type": "execute_result",
          "data": {
            "text/plain": [
              "KNeighborsClassifier()"
            ]
          },
          "metadata": {},
          "execution_count": 473
        }
      ]
    },
    {
      "cell_type": "code",
      "source": [
        "y_test_predict = knn.predict(X_test)\n",
        "labels = pd.DataFrame({'labels':y_test_predict})\n",
        "\n",
        "err_train = 1 - knn.score(X_train, Y_train)\n",
        "err_test = 1 - knn.score(X_test, Y_test)\n",
        "print('Ошибка на обучении: ' + str(err_train * 100) + '%')\n",
        "print('Ошибка на тесте: ' + str(err_test * 100) + '%')"
      ],
      "metadata": {
        "colab": {
          "base_uri": "https://localhost:8080/"
        },
        "id": "nKvyzx-Fb2cL",
        "outputId": "218112d4-db15-4a85-ff5a-720700d19533"
      },
      "execution_count": 474,
      "outputs": [
        {
          "output_type": "stream",
          "name": "stdout",
          "text": [
            "Ошибка на обучении: 4.112149532710285%\n",
            "Ошибка на тесте: 6.716417910447758%\n"
          ]
        }
      ]
    },
    {
      "cell_type": "markdown",
      "source": [
        "Понижение размерности дало небольшой прирост в качестве классификации, значит в данной задаче имеет смысл использовать PCA."
      ],
      "metadata": {
        "id": "pO0rTLPIi87t"
      }
    }
  ]
}